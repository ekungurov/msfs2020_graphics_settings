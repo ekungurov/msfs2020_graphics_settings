{
 "metadata": {
  "language_info": {
   "codemirror_mode": {
    "name": "ipython",
    "version": 3
   },
   "file_extension": ".py",
   "mimetype": "text/x-python",
   "name": "python",
   "nbconvert_exporter": "python",
   "pygments_lexer": "ipython3",
   "version": "3.8.3"
  },
  "orig_nbformat": 2,
  "kernelspec": {
   "name": "python383jvsc74a57bd04b00923a4699c5970a74fd07343fd5f7a22b9bb24fc8249ec0263eb1d47b4e90",
   "display_name": "Python 3.8.3 64-bit"
  }
 },
 "nbformat": 4,
 "nbformat_minor": 2,
 "cells": [
  {
   "cell_type": "code",
   "execution_count": 1,
   "metadata": {},
   "outputs": [],
   "source": [
    "# By no means a clean and organized parser.\n",
    "\n",
    "from bs4 import BeautifulSoup\n",
    "import requests\n",
    "import pandas as pd"
   ]
  },
  {
   "cell_type": "code",
   "execution_count": 2,
   "metadata": {},
   "outputs": [],
   "source": [
    "uri = \"https://forums.flightsimulator.com/t/how-to-graphics-settings-and-performance-guide-3-16-2021/132407\"\n",
    "\n",
    "data = requests.get(uri)"
   ]
  },
  {
   "cell_type": "code",
   "execution_count": 3,
   "metadata": {},
   "outputs": [],
   "source": [
    "soup = BeautifulSoup(data.content, 'html.parser')"
   ]
  },
  {
   "cell_type": "code",
   "execution_count": 9,
   "metadata": {},
   "outputs": [],
   "source": [
    "parsed = []\n",
    "started = False\n",
    "for detail in soup.find_all('details'):\n",
    "    if 'anti alias' in detail.find_next().text.lower():\n",
    "        started = True\n",
    "\n",
    "    if started:\n",
    "        setting_name = detail.find_next().text.lower().strip()\n",
    "        text = detail.text\n",
    "        tokens = ['recommended setting', 'performance impact', 'visual impact']\n",
    "        tokens_in_text = [s for s in tokens if s in text.lower()]\n",
    "        # print('tokens_in_text', tokens_in_text)\n",
    "        current_line = 0\n",
    "        index_dict = dict(zip(tokens, [-1] * len(tokens)))\n",
    "        lines = text.split('\\n')\n",
    "\n",
    "        for i, line in enumerate(lines):\n",
    "            for t in tokens_in_text:\n",
    "                if t + ':' in line.lower():\n",
    "                    index_dict[t] = i\n",
    "        \n",
    "        names = sorted(index_dict, key=lambda x: index_dict[x])\n",
    "        values = [index_dict[k] for k in names]\n",
    "        setting_data = {'setting': setting_name}\n",
    "\n",
    "        \n",
    "\n",
    "        for i, key in enumerate(names):\n",
    "            if key in tokens_in_text:\n",
    "                start = index_dict[key]\n",
    "                if i < len(names) - 1:\n",
    "                    end = index_dict[names[i+1]]\n",
    "                else:\n",
    "                    end = -1\n",
    "                \n",
    "                setting_data[key] = '\\n'.join(lines[start:end])\n",
    "            else:\n",
    "                setting_data[key] = ''\n",
    "\n",
    "        parsed.append(setting_data)\n",
    "        \n",
    "df = pd.DataFrame(parsed)\n",
    "df['recommended setting'] = df['recommended setting'].map(lambda x: x.replace('Recommended Setting: ', '').strip().replace('\\n', ' '))\n",
    "df['performance impact'] = df['performance impact'].map(lambda x: x.replace('Performance Impact:\\n', '').strip().replace('\\n', ' '))\n",
    "df['visual impact'] = df['visual impact'].map(lambda x: x.replace('Visual Impact:\\n', '').strip().replace('\\n', ' '))\n",
    "\n",
    "with open('MSFS2020_settings_guide.html', 'w') as out:\n",
    "    out.write(df.to_html())\n",
    "\n",
    "with open('MSFS2020_settings_guide.md', 'w') as out:\n",
    "    out.write(df.to_markdown())"
   ]
  }
 ]
}